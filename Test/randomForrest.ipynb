{
 "cells": [
  {
   "cell_type": "code",
   "execution_count": 1,
   "metadata": {
    "collapsed": true,
    "pycharm": {
     "is_executing": false
    }
   },
   "outputs": [
    {
     "name": "stdout",
     "text": [
      "import done\n"
     ],
     "output_type": "stream"
    }
   ],
   "source": [
    "import os\n",
    "import numpy as np\n",
    "import pandas as pd\n",
    "import matplotlib.pyplot as plt\n",
    "from sklearn.ensemble import RandomForestRegressor\n",
    "from sklearn.tree import DecisionTreeRegressor\n",
    "from sklearn.linear_model import  ElasticNet\n",
    "from sklearn.linear_model import  Ridge\n",
    "from sklearn.model_selection import cross_val_score\n",
    "import  statsmodels.formula.api as sm\n",
    "from sklearn.linear_model import LinearRegression\n",
    "from sklearn.metrics import mean_squared_error\n",
    "from sklearn.preprocessing import PolynomialFeatures\n",
    "from sklearn.linear_model import  Lasso\n",
    "from sklearn.model_selection import GridSearchCV\n",
    "import matplotlib\n",
    "from sklearn.decomposition import  PCA\n",
    "from sklearn.cluster import  KMeans\n",
    "import sys\n",
    "from src.utils import local_dist, kernel_funcs, alt, calculate_dependent\n",
    "# sys.path.insert(0,'..')\n",
    "\n",
    "import numpy as np\n",
    "import pickle\n",
    "import time\n",
    "import src.utils as utils\n",
    "print(\"import done\")"
   ]
  },
  {
   "cell_type": "code",
   "execution_count": 2,
   "outputs": [
    {
     "name": "stdout",
     "text": [
      "done reading\n"
     ],
     "output_type": "stream"
    }
   ],
   "source": [
    "dataset = \"kingHousePrices\"\n",
    "path = \"../../Data/\" + dataset + \"/\"\n",
    "with open(path + 'training_idx.data', 'rb') as filehandle:\n",
    "    training_idx = pickle.load(filehandle)\n",
    "with open(path + 'validation_idx.data', 'rb') as filehandle:\n",
    "    validation_idx = pickle.load(filehandle)\n",
    "with open(path + 'test_idx.data', 'rb') as filehandle:\n",
    "    test_idx = pickle.load(filehandle)\n",
    "with open(path + 'x.data', 'rb') as filehandle:\n",
    "    x = pickle.load(filehandle)\n",
    "with open(path + 'y.data', 'rb') as filehandle:\n",
    "    y = pickle.load(filehandle)\n",
    "with open(path + 'coords.data', 'rb') as filehandle:\n",
    "    coords = pickle.load(filehandle)\n",
    "    \n",
    "x = x[:, 1:]\n",
    "X_training, X_validation, X_test = x[training_idx, :], x[validation_idx], x[test_idx, :]\n",
    "y_training, y_validation, y_test = y[training_idx, :], y[validation_idx], y[test_idx, :]\n",
    "coords_training, coords_validation, coords_test = coords[training_idx], coords[validation_idx], coords[test_idx]\n",
    "\n",
    "print(\"done reading\")"
   ],
   "metadata": {
    "collapsed": false,
    "pycharm": {
     "name": "#%% Read data\n",
     "is_executing": false
    }
   }
  },
  {
   "cell_type": "code",
   "execution_count": 3,
   "outputs": [],
   "source": [
    "def _build_wi(bandwidths, data, train_coords):\n",
    "    weights = np.zeros((len(bandwidths), len(train_coords)))\n",
    "    for k in range(len(bandwidths)):\n",
    "        pilot = int(bandwidths[k])\n",
    "        dist = local_dist(data, train_coords, False).reshape(-1)\n",
    "        bw = np.partition(dist, pilot - 1)[pilot - 1] * 1.0000001\n",
    "        bw = max(bw, 1.0000001)\n",
    "        for i in range(len(train_coords)):\n",
    "                weights[k][i] = kernel_funcs(dist[i] / bw, 'gaussian')\n",
    "    weights = np.transpose(weights)\n",
    "    return weights"
   ],
   "metadata": {
    "collapsed": false,
    "pycharm": {
     "name": "#%%\n",
     "is_executing": false
    }
   }
  },
  {
   "cell_type": "code",
   "execution_count": null,
   "outputs": [],
   "source": [],
   "metadata": {
    "collapsed": false,
    "pycharm": {
     "name": "#%%\n"
    }
   }
  },
  {
   "cell_type": "code",
   "execution_count": 4,
   "outputs": [
    {
     "name": "stdout",
     "text": [
      "0.3709959498341391\n"
     ],
     "output_type": "stream"
    }
   ],
   "source": [
    "D_train = np.concatenate((X_training, coords_training), axis = 1)\n",
    "D_validation = np.concatenate((X_validation, coords_validation), axis = 1)\n",
    "\n",
    "D_test = np.concatenate((X_test, coords_test), axis = 1)\n",
    "rg = RandomForestRegressor(n_estimators=60)\n",
    "rg.fit(D_train, y_training.reshape(-1, ))\n",
    "print(utils.R2(y_test.reshape(-1).tolist(), rg.predict(D_test)))"
   ],
   "metadata": {
    "collapsed": false,
    "pycharm": {
     "name": "#%% Random forest normal\n",
     "is_executing": false
    }
   }
  },
  {
   "cell_type": "code",
   "execution_count": 6,
   "outputs": [
    {
     "name": "stdout",
     "text": [
      "(640, 10)\n"
     ],
     "output_type": "stream"
    }
   ],
   "source": [
    "print(D_train.shape)"
   ],
   "metadata": {
    "collapsed": false,
    "pycharm": {
     "name": "#%%\n",
     "is_executing": false
    }
   }
  },
  {
   "cell_type": "code",
   "execution_count": 9,
   "outputs": [
    {
     "name": "stdout",
     "text": [
      "0.0\n",
      "18.0\n",
      "36.0\n",
      "54.0\n",
      "72.0\n",
      "90.0\n",
      "0.38734725968864764\n"
     ],
     "output_type": "stream"
    }
   ],
   "source": [
    "bandwidths = [250.,   250,   250,  250,   250, 250, 250, 250]\n",
    "predictions = []\n",
    "for i in range(len(y_test)):\n",
    "    wi = _build_wi(bandwidths, coords_test[i], coords_training)\n",
    "    D_train = wi * X_training\n",
    "    # print(alt(wi, [1, 1, 1, 1, 1], 'mean').shape)\n",
    "    b = alt(wi, [1, 1, 1, 1, 1, 1, 1, 1], 'mean') * y_training\n",
    "    rg = RandomForestRegressor(n_estimators=60)\n",
    "    rg.fit(D_train, b.reshape(-1, ))\n",
    "    # print(X_test[i])\n",
    "    # print(rg.predict(X_test[i].reshape(1, -1)))\n",
    "    if i%36 == 0:\n",
    "        print(i/len(y_test)*100)\n",
    "    predictions.append(rg.predict(X_test[i].reshape(1, -1)))\n",
    "\n",
    "print(utils.R2(y_test.reshape(-1).tolist(), np.asarray(predictions).reshape(-1).tolist()))"
   ],
   "metadata": {
    "collapsed": false,
    "pycharm": {
     "name": "#%%  Random forest with GGWR_Model\n",
     "is_executing": false
    }
   }
  },
  {
   "cell_type": "code",
   "execution_count": null,
   "outputs": [],
   "source": [
    "\n"
   ],
   "metadata": {
    "collapsed": false,
    "pycharm": {
     "name": "#%%\n"
    }
   }
  }
 ],
 "metadata": {
  "kernelspec": {
   "name": "python3",
   "language": "python",
   "display_name": "Python 3"
  },
  "language_info": {
   "codemirror_mode": {
    "name": "ipython",
    "version": 2
   },
   "file_extension": ".py",
   "mimetype": "text/x-python",
   "name": "python",
   "nbconvert_exporter": "python",
   "pygments_lexer": "ipython2",
   "version": "2.7.6"
  },
  "pycharm": {
   "stem_cell": {
    "cell_type": "raw",
    "source": [],
    "metadata": {
     "collapsed": false
    }
   }
  }
 },
 "nbformat": 4,
 "nbformat_minor": 0
}