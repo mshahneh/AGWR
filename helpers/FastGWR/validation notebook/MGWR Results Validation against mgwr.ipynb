{
 "cells": [
  {
   "cell_type": "code",
   "execution_count": 1,
   "metadata": {},
   "outputs": [],
   "source": [
    "import math\n",
    "import sys,os\n",
    "import numpy as np\n",
    "import pandas as pd\n",
    "\n",
    "from mgwr.gwr import GWR,MGWR\n",
    "from mgwr.sel_bw import Sel_BW"
   ]
  },
  {
   "cell_type": "code",
   "execution_count": 2,
   "metadata": {},
   "outputs": [
    {
     "data": {
      "text/html": [
       "<div>\n",
       "<style scoped>\n",
       "    .dataframe tbody tr th:only-of-type {\n",
       "        vertical-align: middle;\n",
       "    }\n",
       "\n",
       "    .dataframe tbody tr th {\n",
       "        vertical-align: top;\n",
       "    }\n",
       "\n",
       "    .dataframe thead th {\n",
       "        text-align: right;\n",
       "    }\n",
       "</style>\n",
       "<table border=\"1\" class=\"dataframe\">\n",
       "  <thead>\n",
       "    <tr style=\"text-align: right;\">\n",
       "      <th></th>\n",
       "      <th>utmX</th>\n",
       "      <th>utmY</th>\n",
       "      <th>value</th>\n",
       "      <th>nbaths</th>\n",
       "      <th>nbeds</th>\n",
       "      <th>area</th>\n",
       "      <th>age</th>\n",
       "    </tr>\n",
       "  </thead>\n",
       "  <tbody>\n",
       "    <tr>\n",
       "      <th>0</th>\n",
       "      <td>374161.333830</td>\n",
       "      <td>3.757568e+06</td>\n",
       "      <td>56.976</td>\n",
       "      <td>1.0</td>\n",
       "      <td>2.0</td>\n",
       "      <td>954.0</td>\n",
       "      <td>71.0</td>\n",
       "    </tr>\n",
       "    <tr>\n",
       "      <th>1</th>\n",
       "      <td>412657.822910</td>\n",
       "      <td>3.761734e+06</td>\n",
       "      <td>157.982</td>\n",
       "      <td>2.0</td>\n",
       "      <td>4.0</td>\n",
       "      <td>1614.0</td>\n",
       "      <td>45.0</td>\n",
       "    </tr>\n",
       "    <tr>\n",
       "      <th>2</th>\n",
       "      <td>391600.475640</td>\n",
       "      <td>3.782212e+06</td>\n",
       "      <td>512.612</td>\n",
       "      <td>4.0</td>\n",
       "      <td>4.0</td>\n",
       "      <td>2962.0</td>\n",
       "      <td>54.0</td>\n",
       "    </tr>\n",
       "    <tr>\n",
       "      <th>3</th>\n",
       "      <td>375056.064681</td>\n",
       "      <td>3.748579e+06</td>\n",
       "      <td>111.437</td>\n",
       "      <td>2.0</td>\n",
       "      <td>3.0</td>\n",
       "      <td>1292.0</td>\n",
       "      <td>65.0</td>\n",
       "    </tr>\n",
       "    <tr>\n",
       "      <th>4</th>\n",
       "      <td>388693.693038</td>\n",
       "      <td>3.779865e+06</td>\n",
       "      <td>128.327</td>\n",
       "      <td>1.0</td>\n",
       "      <td>3.0</td>\n",
       "      <td>1169.0</td>\n",
       "      <td>78.0</td>\n",
       "    </tr>\n",
       "  </tbody>\n",
       "</table>\n",
       "</div>"
      ],
      "text/plain": [
       "            utmX          utmY    value  nbaths  nbeds    area   age\n",
       "0  374161.333830  3.757568e+06   56.976     1.0    2.0   954.0  71.0\n",
       "1  412657.822910  3.761734e+06  157.982     2.0    4.0  1614.0  45.0\n",
       "2  391600.475640  3.782212e+06  512.612     4.0    4.0  2962.0  54.0\n",
       "3  375056.064681  3.748579e+06  111.437     2.0    3.0  1292.0  65.0\n",
       "4  388693.693038  3.779865e+06  128.327     1.0    3.0  1169.0  78.0"
      ]
     },
     "execution_count": 2,
     "metadata": {},
     "output_type": "execute_result"
    }
   ],
   "source": [
    "zillow = pd.read_csv(\"https://raw.github.com/Ziqi-Li/FastGWR/master/Zillow-test-dataset/zillow_1k.csv\",sep=',')\n",
    "zillow.head()"
   ]
  },
  {
   "cell_type": "code",
   "execution_count": 3,
   "metadata": {},
   "outputs": [],
   "source": [
    "#Converting things into matrices\n",
    "y = zillow.value.values.reshape(-1,1)\n",
    "X = zillow.iloc[:,3:].values\n",
    "k = zillow.shape[1]\n",
    "u = zillow.utmX\n",
    "v = zillow.utmY\n",
    "n = zillow.shape[0]\n",
    "coords = np.array(list(zip(u,v)))"
   ]
  },
  {
   "cell_type": "code",
   "execution_count": 4,
   "metadata": {},
   "outputs": [],
   "source": [
    "X = (X - np.mean(X,axis=0))/np.std(X, axis=0)\n",
    "y = (y - np.mean(y,axis=0))/np.std(y, axis=0)"
   ]
  },
  {
   "cell_type": "markdown",
   "metadata": {},
   "source": [
    "### `mgwr`"
   ]
  },
  {
   "cell_type": "code",
   "execution_count": 5,
   "metadata": {},
   "outputs": [
    {
     "data": {
      "application/vnd.jupyter.widget-view+json": {
       "model_id": "76c064a446224e43a5d427954a9ea818",
       "version_major": 2,
       "version_minor": 0
      },
      "text/plain": [
       "HBox(children=(FloatProgress(value=0.0, description='Backfitting', max=200.0, style=ProgressStyle(description_…"
      ]
     },
     "metadata": {},
     "output_type": "display_data"
    },
    {
     "name": "stdout",
     "output_type": "stream",
     "text": [
      "Current iteration: 1 ,SOC: 0.0054557\n",
      "Bandwidths: 133.0, 52.0, 116.0, 82.0, 50.0\n",
      "Current iteration: 2 ,SOC: 0.0044876\n",
      "Bandwidths: 158.0, 105.0, 120.0, 55.0, 50.0\n",
      "Current iteration: 3 ,SOC: 0.0026065\n",
      "Bandwidths: 182.0, 127.0, 122.0, 55.0, 43.0\n",
      "Current iteration: 4 ,SOC: 0.0022962\n",
      "Bandwidths: 202.0, 195.0, 122.0, 55.0, 43.0\n",
      "Current iteration: 5 ,SOC: 0.0016683\n",
      "Bandwidths: 202.0, 285.0, 125.0, 55.0, 43.0\n",
      "Current iteration: 6 ,SOC: 0.0010319\n",
      "Bandwidths: 202.0, 365.0, 125.0, 55.0, 43.0\n",
      "Current iteration: 7 ,SOC: 0.0013286\n",
      "Bandwidths: 202.0, 999.0, 125.0, 55.0, 43.0\n",
      "Current iteration: 8 ,SOC: 0.0004091\n",
      "Bandwidths: 202.0, 999.0, 125.0, 55.0, 43.0\n",
      "Current iteration: 9 ,SOC: 0.0001911\n",
      "Bandwidths: 202.0, 999.0, 125.0, 55.0, 43.0\n",
      "Current iteration: 10 ,SOC: 0.0001056\n",
      "Bandwidths: 202.0, 999.0, 125.0, 55.0, 43.0\n",
      "Current iteration: 11 ,SOC: 6.57e-05\n",
      "Bandwidths: 202.0, 999.0, 125.0, 55.0, 43.0\n",
      "Current iteration: 12 ,SOC: 4.4e-05\n",
      "Bandwidths: 202.0, 999.0, 125.0, 55.0, 43.0\n",
      "Current iteration: 13 ,SOC: 3.1e-05\n",
      "Bandwidths: 202.0, 999.0, 125.0, 55.0, 43.0\n",
      "Current iteration: 14 ,SOC: 2.25e-05\n",
      "Bandwidths: 202.0, 999.0, 125.0, 55.0, 43.0\n",
      "Current iteration: 15 ,SOC: 1.66e-05\n",
      "Bandwidths: 202.0, 999.0, 125.0, 55.0, 43.0\n",
      "Current iteration: 16 ,SOC: 1.23e-05\n",
      "Bandwidths: 202.0, 999.0, 125.0, 55.0, 43.0\n",
      "Current iteration: 17 ,SOC: 9.1e-06\n",
      "Bandwidths: 202.0, 999.0, 125.0, 55.0, 43.0\n",
      "Optimal Bandwidths: [202. 999. 125.  55.  43.]\n"
     ]
    },
    {
     "data": {
      "application/vnd.jupyter.widget-view+json": {
       "model_id": "9da3ffa9a48e4452b4ff38ef1b89d3ec",
       "version_major": 2,
       "version_minor": 0
      },
      "text/plain": [
       "HBox(children=(FloatProgress(value=0.0, description='Inference', max=1.0, style=ProgressStyle(description_widt…"
      ]
     },
     "metadata": {},
     "output_type": "display_data"
    },
    {
     "name": "stdout",
     "output_type": "stream",
     "text": [
      "\n",
      "CPU times: user 6min 59s, sys: 4.98 s, total: 7min 4s\n",
      "Wall time: 1min 48s\n"
     ]
    }
   ],
   "source": [
    "%%time\n",
    "#Bandwidth searching\n",
    "selector = Sel_BW(coords,y,X,multi=True)\n",
    "bws = selector.search(verbose=True)\n",
    "print(\"Optimal Bandwidths:\",bws)\n",
    "\n",
    "#Fitting the model with optimal bandwidth\n",
    "pysal_result_mgwr=MGWR(coords,y,X,selector=selector).fit()"
   ]
  },
  {
   "cell_type": "code",
   "execution_count": 13,
   "metadata": {},
   "outputs": [
    {
     "name": "stdout",
     "output_type": "stream",
     "text": [
      "fastgwr, version 0.2.8\r\n"
     ]
    }
   ],
   "source": [
    "!fastgwr --version"
   ]
  },
  {
   "cell_type": "markdown",
   "metadata": {},
   "source": [
    "### FastGWR"
   ]
  },
  {
   "cell_type": "code",
   "execution_count": 14,
   "metadata": {},
   "outputs": [
    {
     "name": "stdout",
     "output_type": "stream",
     "text": [
      "------------------------------------------------------------\n",
      "Starting FastGWR with 4 Processors\n",
      "Spatial Kernel: Adaptive Bisquare\n",
      "Data Input Path: https://raw.github.com/Ziqi-Li/FastGWR/master/Zillow-test-dataset/zillow_1k.csv\n",
      "Output Result Path: fastgwr_rslt.csv\n",
      "Intercept: True\n",
      "MGWR Backfitting...\n",
      "Data are standardized\n",
      "Initialization Done...\n",
      "Iter: 1 SOC: 5.46e-03\n",
      "bws: [133.0, 52.0, 116.0, 82.0, 50.0]\n",
      "Iter: 2 SOC: 4.49e-03\n",
      "bws: [158.0, 105.0, 120.0, 55.0, 50.0]\n",
      "Iter: 3 SOC: 2.61e-03\n",
      "bws: [182.0, 127.0, 122.0, 55.0, 43.0]\n",
      "Iter: 4 SOC: 2.30e-03\n",
      "bws: [202.0, 195.0, 122.0, 55.0, 43.0]\n",
      "Iter: 5 SOC: 1.67e-03\n",
      "bws: [202.0, 285.0, 125.0, 55.0, 43.0]\n",
      "Iter: 6 SOC: 1.03e-03\n",
      "bws: [202.0, 365.0, 125.0, 55.0, 43.0]\n",
      "Iter: 7 SOC: 1.33e-03\n",
      "bws: [202.0, 999.0, 125.0, 55.0, 43.0]\n",
      "Iter: 8 SOC: 4.09e-04\n",
      "bws: [202.0, 999.0, 125.0, 55.0, 43.0]\n",
      "Iter: 9 SOC: 1.91e-04\n",
      "bws: [202.0, 999.0, 125.0, 55.0, 43.0]\n",
      "Iter: 10 SOC: 1.06e-04\n",
      "bws: [202.0, 999.0, 125.0, 55.0, 43.0]\n",
      "Iter: 11 SOC: 6.57e-05\n",
      "bws: [202.0, 999.0, 125.0, 55.0, 43.0]\n",
      "Iter: 12 SOC: 4.40e-05\n",
      "bws: [202.0, 999.0, 125.0, 55.0, 43.0]\n",
      "Iter: 13 SOC: 3.10e-05\n",
      "bws: [202.0, 999.0, 125.0, 55.0, 43.0]\n",
      "Iter: 14 SOC: 2.25e-05\n",
      "bws: [202.0, 999.0, 125.0, 55.0, 43.0]\n",
      "Iter: 15 SOC: 1.66e-05\n",
      "bws: [202.0, 999.0, 125.0, 55.0, 43.0]\n",
      "Iter: 16 SOC: 1.23e-05\n",
      "bws: [202.0, 999.0, 125.0, 55.0, 43.0]\n",
      "Iter: 17 SOC: 9.14e-06\n",
      "bws: [202.0, 999.0, 125.0, 55.0, 43.0]\n",
      "Computing Inference with 1 Chunk(s)\n",
      "Diagnostic Information:\n",
      "AICc: 1679.0150747382897\n",
      "ENP: [10.13917587  1.15749374 16.97300011 42.38091109 56.32981658]\n",
      "R2: 0.7660681409024722\n",
      "Total Time Elapsed: 34.19 seconds\n",
      "------------------------------------------------------------\n"
     ]
    }
   ],
   "source": [
    "#Running FastGWR 4 Processor\n",
    "!fastgwr run -np 4 -data https://raw.github.com/Ziqi-Li/FastGWR/master/Zillow-test-dataset/zillow_1k.csv -mgwr\n"
   ]
  },
  {
   "cell_type": "markdown",
   "metadata": {},
   "source": [
    "### Results validation"
   ]
  },
  {
   "cell_type": "code",
   "execution_count": 15,
   "metadata": {},
   "outputs": [
    {
     "name": "stdout",
     "output_type": "stream",
     "text": [
      "MGWR pysal AICc -  1679.0150747382786\n",
      "MGWR pysal R2 -  0.7660681409024748\n",
      "MGWR pysal ENP_j -  [10.13917587  1.15749374 16.97300011 42.38091109 56.32981658]\n"
     ]
    }
   ],
   "source": [
    "print(\"MGWR pysal AICc - \", pysal_result_mgwr.aicc)\n",
    "print(\"MGWR pysal R2 - \",pysal_result_mgwr.R2)\n",
    "print(\"MGWR pysal ENP_j - \",pysal_result_mgwr.ENP_j)"
   ]
  },
  {
   "cell_type": "code",
   "execution_count": 16,
   "metadata": {},
   "outputs": [
    {
     "data": {
      "text/html": [
       "<div>\n",
       "<style scoped>\n",
       "    .dataframe tbody tr th:only-of-type {\n",
       "        vertical-align: middle;\n",
       "    }\n",
       "\n",
       "    .dataframe tbody tr th {\n",
       "        vertical-align: top;\n",
       "    }\n",
       "\n",
       "    .dataframe thead th {\n",
       "        text-align: right;\n",
       "    }\n",
       "</style>\n",
       "<table border=\"1\" class=\"dataframe\">\n",
       "  <thead>\n",
       "    <tr style=\"text-align: right;\">\n",
       "      <th></th>\n",
       "      <th>index</th>\n",
       "      <th>residual</th>\n",
       "      <th>b_intercept</th>\n",
       "      <th>b_nbaths</th>\n",
       "      <th>b_nbeds</th>\n",
       "      <th>b_area</th>\n",
       "      <th>b_age</th>\n",
       "      <th>se_intercept</th>\n",
       "      <th>se_nbaths</th>\n",
       "      <th>se_nbeds</th>\n",
       "      <th>se_area</th>\n",
       "      <th>se_age</th>\n",
       "    </tr>\n",
       "  </thead>\n",
       "  <tbody>\n",
       "    <tr>\n",
       "      <th>0</th>\n",
       "      <td>0.0</td>\n",
       "      <td>-0.011031</td>\n",
       "      <td>-0.075463</td>\n",
       "      <td>0.109868</td>\n",
       "      <td>-0.101711</td>\n",
       "      <td>0.496562</td>\n",
       "      <td>-0.152488</td>\n",
       "      <td>0.052883</td>\n",
       "      <td>0.038427</td>\n",
       "      <td>0.067536</td>\n",
       "      <td>0.153329</td>\n",
       "      <td>0.140883</td>\n",
       "    </tr>\n",
       "    <tr>\n",
       "      <th>1</th>\n",
       "      <td>1.0</td>\n",
       "      <td>0.240776</td>\n",
       "      <td>-0.149862</td>\n",
       "      <td>0.102825</td>\n",
       "      <td>-0.061923</td>\n",
       "      <td>0.483481</td>\n",
       "      <td>0.015166</td>\n",
       "      <td>0.055686</td>\n",
       "      <td>0.038009</td>\n",
       "      <td>0.072306</td>\n",
       "      <td>0.123261</td>\n",
       "      <td>0.121128</td>\n",
       "    </tr>\n",
       "    <tr>\n",
       "      <th>2</th>\n",
       "      <td>2.0</td>\n",
       "      <td>0.879991</td>\n",
       "      <td>-0.022973</td>\n",
       "      <td>0.107025</td>\n",
       "      <td>0.003100</td>\n",
       "      <td>0.368938</td>\n",
       "      <td>-0.133318</td>\n",
       "      <td>0.050438</td>\n",
       "      <td>0.038461</td>\n",
       "      <td>0.067755</td>\n",
       "      <td>0.145923</td>\n",
       "      <td>0.078181</td>\n",
       "    </tr>\n",
       "    <tr>\n",
       "      <th>3</th>\n",
       "      <td>3.0</td>\n",
       "      <td>0.096153</td>\n",
       "      <td>-0.132249</td>\n",
       "      <td>0.109213</td>\n",
       "      <td>-0.179828</td>\n",
       "      <td>0.547619</td>\n",
       "      <td>0.045308</td>\n",
       "      <td>0.053340</td>\n",
       "      <td>0.038421</td>\n",
       "      <td>0.075964</td>\n",
       "      <td>0.151595</td>\n",
       "      <td>0.185564</td>\n",
       "    </tr>\n",
       "    <tr>\n",
       "      <th>4</th>\n",
       "      <td>4.0</td>\n",
       "      <td>0.188585</td>\n",
       "      <td>-0.028293</td>\n",
       "      <td>0.107749</td>\n",
       "      <td>-0.014474</td>\n",
       "      <td>0.279898</td>\n",
       "      <td>-0.134211</td>\n",
       "      <td>0.052218</td>\n",
       "      <td>0.038547</td>\n",
       "      <td>0.069750</td>\n",
       "      <td>0.142563</td>\n",
       "      <td>0.077774</td>\n",
       "    </tr>\n",
       "  </tbody>\n",
       "</table>\n",
       "</div>"
      ],
      "text/plain": [
       "   index  residual  b_intercept  b_nbaths   b_nbeds    b_area     b_age  \\\n",
       "0    0.0 -0.011031    -0.075463  0.109868 -0.101711  0.496562 -0.152488   \n",
       "1    1.0  0.240776    -0.149862  0.102825 -0.061923  0.483481  0.015166   \n",
       "2    2.0  0.879991    -0.022973  0.107025  0.003100  0.368938 -0.133318   \n",
       "3    3.0  0.096153    -0.132249  0.109213 -0.179828  0.547619  0.045308   \n",
       "4    4.0  0.188585    -0.028293  0.107749 -0.014474  0.279898 -0.134211   \n",
       "\n",
       "   se_intercept  se_nbaths  se_nbeds   se_area    se_age  \n",
       "0      0.052883   0.038427  0.067536  0.153329  0.140883  \n",
       "1      0.055686   0.038009  0.072306  0.123261  0.121128  \n",
       "2      0.050438   0.038461  0.067755  0.145923  0.078181  \n",
       "3      0.053340   0.038421  0.075964  0.151595  0.185564  \n",
       "4      0.052218   0.038547  0.069750  0.142563  0.077774  "
      ]
     },
     "execution_count": 16,
     "metadata": {},
     "output_type": "execute_result"
    }
   ],
   "source": [
    "fastGWR_result_mgwr = pd.read_csv(\"fastgwr_rslt.csv\")\n",
    "fastGWR_result_mgwr.head()"
   ]
  },
  {
   "cell_type": "code",
   "execution_count": 17,
   "metadata": {},
   "outputs": [
    {
     "name": "stdout",
     "output_type": "stream",
     "text": [
      "True\n"
     ]
    }
   ],
   "source": [
    "#Validate model residuals\n",
    "print(np.allclose(fastGWR_result_mgwr.residual,\n",
    "                  pysal_result_mgwr.resid_response.reshape(-1)))\n"
   ]
  },
  {
   "cell_type": "code",
   "execution_count": 18,
   "metadata": {},
   "outputs": [
    {
     "name": "stdout",
     "output_type": "stream",
     "text": [
      "True\n"
     ]
    }
   ],
   "source": [
    "#Validate parameter estimates\n",
    "print(np.allclose(np.array(fastGWR_result_mgwr.iloc[:,2:7]),\n",
    "                  pysal_result_mgwr.params))\n",
    "\n"
   ]
  },
  {
   "cell_type": "code",
   "execution_count": 19,
   "metadata": {},
   "outputs": [
    {
     "name": "stdout",
     "output_type": "stream",
     "text": [
      "True\n"
     ]
    }
   ],
   "source": [
    "#Validate parameter estimates standard errors\n",
    "print(np.allclose(np.array(fastGWR_result_mgwr.iloc[:,7:12]),\n",
    "                  pysal_result_mgwr.bse))\n"
   ]
  },
  {
   "cell_type": "code",
   "execution_count": null,
   "metadata": {},
   "outputs": [],
   "source": []
  }
 ],
 "metadata": {
  "kernelspec": {
   "display_name": "Python 3",
   "language": "python",
   "name": "python3"
  },
  "language_info": {
   "codemirror_mode": {
    "name": "ipython",
    "version": 3
   },
   "file_extension": ".py",
   "mimetype": "text/x-python",
   "name": "python",
   "nbconvert_exporter": "python",
   "pygments_lexer": "ipython3",
   "version": "3.7.6"
  }
 },
 "nbformat": 4,
 "nbformat_minor": 2
}
