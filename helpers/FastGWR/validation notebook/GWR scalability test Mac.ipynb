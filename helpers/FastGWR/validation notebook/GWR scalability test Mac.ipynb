{
 "cells": [
  {
   "cell_type": "markdown",
   "metadata": {},
   "source": [
    "Test for GWR scalability on a Mac with 2 GHz Quad-Core Intel Core i5 based on 20k Zillow records."
   ]
  },
  {
   "cell_type": "code",
   "execution_count": 1,
   "metadata": {},
   "outputs": [
    {
     "name": "stdout",
     "output_type": "stream",
     "text": [
      "fastgwr, version 0.2.8\r\n"
     ]
    }
   ],
   "source": [
    "!fastgwr --version"
   ]
  },
  {
   "cell_type": "markdown",
   "metadata": {},
   "source": [
    "Performance of `fastgwr` with 1 processor"
   ]
  },
  {
   "cell_type": "code",
   "execution_count": 2,
   "metadata": {},
   "outputs": [
    {
     "name": "stdout",
     "output_type": "stream",
     "text": [
      "------------------------------------------------------------\n",
      "Starting FastGWR with 1 Processors\n",
      "Spatial Kernel: Adaptive Bisquare\n",
      "Data Input Path: https://raw.github.com/Ziqi-Li/FastGWR/master/Zillow-test-dataset/zillow_20k.csv\n",
      "Output Result Path: fastgwr_rslt.csv\n",
      "Intercept: True\n",
      "Optimal Bandwidth Searching...\n",
      "Range: 50 20000\n",
      "BW, AICc 7670.0 251215.3542273905\n",
      "BW, AICc 12380.0 251887.46215700492\n",
      "BW, AICc 4760.0 250338.0363590131\n",
      "BW, AICc 2961.0 249530.96308110983\n",
      "BW, AICc 1849.0 248972.96316830348\n",
      "BW, AICc 1162.0 248372.58315837776\n",
      "BW, AICc 737.0 247794.44121752455\n",
      "BW, AICc 475.0 247274.92463894008\n",
      "BW, AICc 312.0 246862.23186354767\n",
      "BW, AICc 212.0 246573.90619644083\n",
      "BW, AICc 150.0 246370.13897186716\n",
      "BW, AICc 112.0 246331.7765445473\n",
      "BW, AICc 88.0 246507.08873301116\n",
      "BW, AICc 126.0 246314.23013786436\n",
      "BW, AICc 135.0 246322.2376709976\n",
      "BW, AICc 121.0 246320.44353618988\n",
      "BW, AICc 130.0 246319.64794821435\n",
      "BW, AICc 124.0 246322.78583452798\n",
      "BW, AICc 128.0 246309.68704617332\n",
      "Fitting GWR Using Bandwidth: 128.0\n",
      "Diagnostic Information:\n",
      "AICc: 246309.68704617335\n",
      "ENP: 1984.7000479255407\n",
      "R2: 0.7655872633750118\n",
      "Total Time Elapsed: 325.94 seconds\n",
      "------------------------------------------------------------\n"
     ]
    }
   ],
   "source": [
    "!fastgwr run -np 1 -data https://raw.github.com/Ziqi-Li/FastGWR/master/Zillow-test-dataset/zillow_20k.csv"
   ]
  },
  {
   "cell_type": "markdown",
   "metadata": {},
   "source": [
    "Performance of `fastgwr` with 2 processors"
   ]
  },
  {
   "cell_type": "code",
   "execution_count": 3,
   "metadata": {},
   "outputs": [
    {
     "name": "stdout",
     "output_type": "stream",
     "text": [
      "------------------------------------------------------------\n",
      "Starting FastGWR with 2 Processors\n",
      "Spatial Kernel: Adaptive Bisquare\n",
      "Data Input Path: https://raw.github.com/Ziqi-Li/FastGWR/master/Zillow-test-dataset/zillow_20k.csv\n",
      "Output Result Path: fastgwr_rslt.csv\n",
      "Intercept: True\n",
      "Optimal Bandwidth Searching...\n",
      "Range: 50 20000\n",
      "BW, AICc 7670.0 251215.3542273905\n",
      "BW, AICc 12380.0 251887.462157005\n",
      "BW, AICc 4760.0 250338.03635901297\n",
      "BW, AICc 2961.0 249530.9630811097\n",
      "BW, AICc 1849.0 248972.96316830357\n",
      "BW, AICc 1162.0 248372.58315837773\n",
      "BW, AICc 737.0 247794.44121752447\n",
      "BW, AICc 475.0 247274.92463894002\n",
      "BW, AICc 312.0 246862.23186354764\n",
      "BW, AICc 212.0 246573.9061964408\n",
      "BW, AICc 150.0 246370.13897186713\n",
      "BW, AICc 112.0 246331.7765445473\n",
      "BW, AICc 88.0 246507.08873301113\n",
      "BW, AICc 126.0 246314.2301378644\n",
      "BW, AICc 135.0 246322.23767099762\n",
      "BW, AICc 121.0 246320.44353619\n",
      "BW, AICc 130.0 246319.64794821417\n",
      "BW, AICc 124.0 246322.78583452798\n",
      "BW, AICc 128.0 246309.68704617344\n",
      "Fitting GWR Using Bandwidth: 128.0\n",
      "Diagnostic Information:\n",
      "AICc: 246309.68704617335\n",
      "ENP: 1984.7000479255407\n",
      "R2: 0.7655872633750118\n",
      "Total Time Elapsed: 228.17 seconds\n",
      "------------------------------------------------------------\n"
     ]
    }
   ],
   "source": [
    "!fastgwr run -np 2 -data https://raw.github.com/Ziqi-Li/FastGWR/master/Zillow-test-dataset/zillow_20k.csv"
   ]
  },
  {
   "cell_type": "markdown",
   "metadata": {},
   "source": [
    "Performance of `fastgwr` with 4 processors"
   ]
  },
  {
   "cell_type": "code",
   "execution_count": 4,
   "metadata": {},
   "outputs": [
    {
     "name": "stdout",
     "output_type": "stream",
     "text": [
      "------------------------------------------------------------\n",
      "Starting FastGWR with 4 Processors\n",
      "Spatial Kernel: Adaptive Bisquare\n",
      "Data Input Path: https://raw.github.com/Ziqi-Li/FastGWR/master/Zillow-test-dataset/zillow_20k.csv\n",
      "Output Result Path: fastgwr_rslt.csv\n",
      "Intercept: True\n",
      "Optimal Bandwidth Searching...\n",
      "Range: 50 20000\n",
      "BW, AICc 7670.0 251215.3542273905\n",
      "BW, AICc 12380.0 251887.462157005\n",
      "BW, AICc 4760.0 250338.03635901297\n",
      "BW, AICc 2961.0 249530.9630811097\n",
      "BW, AICc 1849.0 248972.96316830354\n",
      "BW, AICc 1162.0 248372.58315837773\n",
      "BW, AICc 737.0 247794.44121752444\n",
      "BW, AICc 475.0 247274.92463894002\n",
      "BW, AICc 312.0 246862.23186354773\n",
      "BW, AICc 212.0 246573.90619644074\n",
      "BW, AICc 150.0 246370.13897186713\n",
      "BW, AICc 112.0 246331.77654454726\n",
      "BW, AICc 88.0 246507.08873301116\n",
      "BW, AICc 126.0 246314.23013786442\n",
      "BW, AICc 135.0 246322.2376709976\n",
      "BW, AICc 121.0 246320.44353618997\n",
      "BW, AICc 130.0 246319.64794821417\n",
      "BW, AICc 124.0 246322.78583452807\n",
      "BW, AICc 128.0 246309.68704617338\n",
      "Fitting GWR Using Bandwidth: 128.0\n",
      "Diagnostic Information:\n",
      "AICc: 246309.68704617335\n",
      "ENP: 1984.7000479255407\n",
      "R2: 0.7655872633750118\n",
      "Total Time Elapsed: 156.34 seconds\n",
      "------------------------------------------------------------\n"
     ]
    }
   ],
   "source": [
    "!fastgwr run -np 4 -data https://raw.github.com/Ziqi-Li/FastGWR/master/Zillow-test-dataset/zillow_20k.csv"
   ]
  },
  {
   "cell_type": "code",
   "execution_count": null,
   "metadata": {},
   "outputs": [],
   "source": []
  }
 ],
 "metadata": {
  "kernelspec": {
   "display_name": "Python 3",
   "language": "python",
   "name": "python3"
  },
  "language_info": {
   "codemirror_mode": {
    "name": "ipython",
    "version": 3
   },
   "file_extension": ".py",
   "mimetype": "text/x-python",
   "name": "python",
   "nbconvert_exporter": "python",
   "pygments_lexer": "ipython3",
   "version": "3.7.6"
  }
 },
 "nbformat": 4,
 "nbformat_minor": 2
}
