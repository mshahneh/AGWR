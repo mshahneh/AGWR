{
 "cells": [
  {
   "cell_type": "code",
   "execution_count": 1,
   "metadata": {},
   "outputs": [],
   "source": [
    "import math\n",
    "import sys,os\n",
    "import numpy as np\n",
    "import pandas as pd\n",
    "\n",
    "from mgwr.gwr import GWR,GWRResults\n",
    "from mgwr.sel_bw import Sel_BW"
   ]
  },
  {
   "cell_type": "code",
   "execution_count": 2,
   "metadata": {},
   "outputs": [
    {
     "data": {
      "text/html": [
       "<div>\n",
       "<style scoped>\n",
       "    .dataframe tbody tr th:only-of-type {\n",
       "        vertical-align: middle;\n",
       "    }\n",
       "\n",
       "    .dataframe tbody tr th {\n",
       "        vertical-align: top;\n",
       "    }\n",
       "\n",
       "    .dataframe thead th {\n",
       "        text-align: right;\n",
       "    }\n",
       "</style>\n",
       "<table border=\"1\" class=\"dataframe\">\n",
       "  <thead>\n",
       "    <tr style=\"text-align: right;\">\n",
       "      <th></th>\n",
       "      <th>utmX</th>\n",
       "      <th>utmY</th>\n",
       "      <th>value</th>\n",
       "      <th>nbaths</th>\n",
       "      <th>nbeds</th>\n",
       "      <th>area</th>\n",
       "      <th>age</th>\n",
       "    </tr>\n",
       "  </thead>\n",
       "  <tbody>\n",
       "    <tr>\n",
       "      <th>0</th>\n",
       "      <td>379979.957285</td>\n",
       "      <td>3.752562e+06</td>\n",
       "      <td>87.397</td>\n",
       "      <td>2.0</td>\n",
       "      <td>3.0</td>\n",
       "      <td>1311.0</td>\n",
       "      <td>61.0</td>\n",
       "    </tr>\n",
       "    <tr>\n",
       "      <th>1</th>\n",
       "      <td>411210.623578</td>\n",
       "      <td>3.762339e+06</td>\n",
       "      <td>121.211</td>\n",
       "      <td>2.0</td>\n",
       "      <td>4.0</td>\n",
       "      <td>1200.0</td>\n",
       "      <td>62.0</td>\n",
       "    </tr>\n",
       "    <tr>\n",
       "      <th>2</th>\n",
       "      <td>400287.486356</td>\n",
       "      <td>3.743925e+06</td>\n",
       "      <td>76.145</td>\n",
       "      <td>1.0</td>\n",
       "      <td>2.0</td>\n",
       "      <td>724.0</td>\n",
       "      <td>70.0</td>\n",
       "    </tr>\n",
       "    <tr>\n",
       "      <th>3</th>\n",
       "      <td>391029.680899</td>\n",
       "      <td>3.776406e+06</td>\n",
       "      <td>136.320</td>\n",
       "      <td>2.0</td>\n",
       "      <td>3.0</td>\n",
       "      <td>1890.0</td>\n",
       "      <td>54.0</td>\n",
       "    </tr>\n",
       "    <tr>\n",
       "      <th>4</th>\n",
       "      <td>371824.111160</td>\n",
       "      <td>3.750099e+06</td>\n",
       "      <td>100.499</td>\n",
       "      <td>4.0</td>\n",
       "      <td>5.0</td>\n",
       "      <td>2166.0</td>\n",
       "      <td>71.0</td>\n",
       "    </tr>\n",
       "  </tbody>\n",
       "</table>\n",
       "</div>"
      ],
      "text/plain": [
       "            utmX          utmY    value  nbaths  nbeds    area   age\n",
       "0  379979.957285  3.752562e+06   87.397     2.0    3.0  1311.0  61.0\n",
       "1  411210.623578  3.762339e+06  121.211     2.0    4.0  1200.0  62.0\n",
       "2  400287.486356  3.743925e+06   76.145     1.0    2.0   724.0  70.0\n",
       "3  391029.680899  3.776406e+06  136.320     2.0    3.0  1890.0  54.0\n",
       "4  371824.111160  3.750099e+06  100.499     4.0    5.0  2166.0  71.0"
      ]
     },
     "execution_count": 2,
     "metadata": {},
     "output_type": "execute_result"
    }
   ],
   "source": [
    "zillow = pd.read_csv(\"Zillow-test-dataset/zillow_5k.csv\",sep=',')\n",
    "zillow.head()"
   ]
  },
  {
   "cell_type": "code",
   "execution_count": 3,
   "metadata": {},
   "outputs": [],
   "source": [
    "#Converting things into matrices\n",
    "y = zillow.value.values.reshape(-1,1)\n",
    "X = zillow.iloc[:,3:].values\n",
    "k = zillow.shape[1]\n",
    "u = zillow.utmX\n",
    "v = zillow.utmY\n",
    "n = zillow.shape[0]\n",
    "coords = np.array(list(zip(u,v)))"
   ]
  },
  {
   "cell_type": "markdown",
   "metadata": {},
   "source": [
    "### `mgwr`"
   ]
  },
  {
   "cell_type": "markdown",
   "metadata": {},
   "source": [
    "#### Adaptive Bisquare Kernel"
   ]
  },
  {
   "cell_type": "code",
   "execution_count": 6,
   "metadata": {},
   "outputs": [
    {
     "name": "stdout",
     "output_type": "stream",
     "text": [
      "Bandwidth:  1941.0 , score:  62998.99\n",
      "Bandwidth:  3109.0 , score:  63155.34\n",
      "Bandwidth:  1218.0 , score:  62834.64\n",
      "Bandwidth:  772.0 , score:  62623.87\n",
      "Bandwidth:  496.0 , score:  62394.91\n",
      "Bandwidth:  326.0 , score:  62176.77\n",
      "Bandwidth:  220.0 , score:  62010.24\n",
      "Bandwidth:  155.0 , score:  61900.35\n",
      "Bandwidth:  115.0 , score:  61877.92\n",
      "Bandwidth:  90.0 , score:  61928.28\n",
      "Bandwidth:  130.0 , score:  61872.72\n",
      "Bandwidth:  140.0 , score:  61880.08\n",
      "Bandwidth:  125.0 , score:  61868.41\n",
      "Bandwidth:  121.0 , score:  61867.18\n",
      "Bandwidth:  119.0 , score:  61869.76\n",
      "Bandwidth:  123.0 , score:  61868.12\n",
      "Optimal Bandwidth: 121.0\n",
      "CPU times: user 3min 28s, sys: 20.9 s, total: 3min 49s\n",
      "Wall time: 34.3 s\n"
     ]
    }
   ],
   "source": [
    "%%time\n",
    "#Bandwidth searching\n",
    "opt_bw_adap = Sel_BW(coords,y,X).search(verbose=True)\n",
    "print(\"Optimal Bandwidth:\",opt_bw_adap)\n",
    "\n",
    "#Fitting the model with optimal bandwidth\n",
    "pysal_result_adap=GWR(coords,y,X,opt_bw_adap).fit()"
   ]
  },
  {
   "cell_type": "code",
   "execution_count": 7,
   "metadata": {},
   "outputs": [
    {
     "name": "stdout",
     "output_type": "stream",
     "text": [
      "Bandwidth:  85088.9 , score:  63401.59\n",
      "Bandwidth:  137674.41 , score:  63412.23\n",
      "Bandwidth:  52587.49 , score:  63376.05\n",
      "Bandwidth:  32501.41 , score:  63319.11\n",
      "Bandwidth:  20086.84 , score:  63189.10\n",
      "Bandwidth:  12414.56 , score:  62823.09\n",
      "Bandwidth:  7672.57 , score:  62284.31\n",
      "Bandwidth:  4741.99 , score:  61925.83\n",
      "Bandwidth:  2930.69 , score:  61529.61\n",
      "Bandwidth:  1811.3 , score:  61093.24\n",
      "Bandwidth:  1119.44 , score:  61264.26\n",
      "Bandwidth:  2238.85 , score:  61276.52\n",
      "Bandwidth:  1547.02 , score:  61014.93\n",
      "Bandwidth:  1383.71 , score:  61028.14\n",
      "Bandwidth:  1647.97 , score:  61035.32\n",
      "Bandwidth:  1484.65 , score:  61012.03\n",
      "Bandwidth:  1446.09 , score:  61014.87\n",
      "Bandwidth:  1508.47 , score:  61012.11\n",
      "Bandwidth:  1469.91 , score:  61012.67\n",
      "Bandwidth:  1493.74 , score:  61011.91\n",
      "Bandwidth:  1499.37 , score:  61011.93\n",
      "Bandwidth:  1490.27 , score:  61011.93\n",
      "Bandwidth:  1495.89 , score:  61011.91\n",
      "Bandwidth:  1497.22 , score:  61011.91\n",
      "Bandwidth:  1495.07 , score:  61011.90\n",
      "Bandwidth:  1494.56 , score:  61011.90\n",
      "Bandwidth:  1495.38 , score:  61011.90\n",
      "Bandwidth:  1494.88 , score:  61011.90\n",
      "Bandwidth:  1495.19 , score:  61011.90\n",
      "Bandwidth:  1495.0 , score:  61011.90\n",
      "Bandwidth:  1495.12 , score:  61011.90\n",
      "Bandwidth:  1495.04 , score:  61011.90\n",
      "Optimal Bandwidth: 1495.04\n",
      "CPU times: user 6min 36s, sys: 38.2 s, total: 7min 14s\n",
      "Wall time: 1min 4s\n"
     ]
    }
   ],
   "source": [
    "%%time\n",
    "#Bandwidth searching\n",
    "opt_bw_fixed = Sel_BW(coords,y,X,fixed=True,kernel=\"gaussian\").search(verbose=True)\n",
    "print(\"Optimal Bandwidth:\",opt_bw_fixed)\n",
    "\n",
    "#Fitting the model with optimal bandwidth\n",
    "pysal_result_fixed=GWR(coords,y,X,opt_bw_fixed,fixed=True,kernel=\"gaussian\").fit()"
   ]
  },
  {
   "cell_type": "markdown",
   "metadata": {},
   "source": [
    "### FastGWR"
   ]
  },
  {
   "cell_type": "markdown",
   "metadata": {},
   "source": [
    "#### Adaptive Kernel"
   ]
  },
  {
   "cell_type": "code",
   "execution_count": 8,
   "metadata": {},
   "outputs": [
    {
     "name": "stdout",
     "output_type": "stream",
     "text": [
      "------------------------------------------------------------\n",
      "Starting FastGWR with 1 Processors\n",
      "Spatial Kernel: Adaptive Bisquare\n",
      "Data Input Path: Zillow-test-dataset/zillow_5k.csv\n",
      "Output Result Path: results_adap.csv\n",
      "Constant: True\n",
      "Optimal Bandwidth Searching...\n",
      "Range: 50 5000\n",
      "BW, AICc 1941.0 62998.99119669126\n",
      "BW, AICc 3109.0 63155.33894463485\n",
      "BW, AICc 1218.0 62834.63981029019\n",
      "BW, AICc 772.0 62623.87488968963\n",
      "BW, AICc 496.0 62394.91059361154\n",
      "BW, AICc 326.0 62176.772952292216\n",
      "BW, AICc 220.0 62010.24083279318\n",
      "BW, AICc 155.0 61900.34904388845\n",
      "BW, AICc 115.0 61877.92073505618\n",
      "BW, AICc 90.0 61928.281301868126\n",
      "BW, AICc 130.0 61872.71759124702\n",
      "BW, AICc 140.0 61880.08193188456\n",
      "BW, AICc 125.0 61868.40676858912\n",
      "BW, AICc 121.0 61867.18296256345\n",
      "BW, AICc 119.0 61869.759931302826\n",
      "BW, AICc 123.0 61868.11546142209\n",
      "Fitting GWR Using Bandwidth: 121.0\n",
      "Diagnostic Information:\n",
      "AICc: 61867.18296256346\n",
      "ENP: 528.2622212380004\n",
      "R2: 0.7741417970962883\n",
      "Total Time Elapsed: 25.72 seconds\n",
      "------------------------------------------------------------\n"
     ]
    }
   ],
   "source": [
    "#Running FastGWR 1 Processor with auto bandwidth search\n",
    "!fastgwr run -np 1 -data Zillow-test-dataset/zillow_5k.csv -out results_adap.csv -adaptive -constant"
   ]
  },
  {
   "cell_type": "code",
   "execution_count": 9,
   "metadata": {},
   "outputs": [
    {
     "name": "stdout",
     "output_type": "stream",
     "text": [
      "------------------------------------------------------------\n",
      "Starting FastGWR with 4 Processors\n",
      "Spatial Kernel: Adaptive Bisquare\n",
      "Data Input Path: Zillow-test-dataset/zillow_5k.csv\n",
      "Output Result Path: results_adap.csv\n",
      "Constant: True\n",
      "Optimal Bandwidth Searching...\n",
      "Range: 50 5000\n",
      "BW, AICc 1941.0 62998.99119669126\n",
      "BW, AICc 3109.0 63155.33894463484\n",
      "BW, AICc 1218.0 62834.63981029017\n",
      "BW, AICc 772.0 62623.874889689614\n",
      "BW, AICc 496.0 62394.91059361154\n",
      "BW, AICc 326.0 62176.772952292216\n",
      "BW, AICc 220.0 62010.240832793184\n",
      "BW, AICc 155.0 61900.34904388847\n",
      "BW, AICc 115.0 61877.920735056185\n",
      "BW, AICc 90.0 61928.281301868104\n",
      "BW, AICc 130.0 61872.717591247\n",
      "BW, AICc 140.0 61880.08193188456\n",
      "BW, AICc 125.0 61868.40676858913\n",
      "BW, AICc 121.0 61867.18296256346\n",
      "BW, AICc 119.0 61869.75993130282\n",
      "BW, AICc 123.0 61868.11546142208\n",
      "Fitting GWR Using Bandwidth: 121.0\n",
      "Diagnostic Information:\n",
      "AICc: 61867.18296256346\n",
      "ENP: 528.2622212380004\n",
      "R2: 0.7741417970962883\n",
      "Total Time Elapsed: 12.28 seconds\n",
      "------------------------------------------------------------\n"
     ]
    }
   ],
   "source": [
    "#Running FastGWR 4 Processor\n",
    "!fastgwr run -np 4 -data Zillow-test-dataset/zillow_5k.csv -out results_adap.csv -adaptive -constant"
   ]
  },
  {
   "cell_type": "markdown",
   "metadata": {},
   "source": [
    "#### Fixed Gaussian kernel"
   ]
  },
  {
   "cell_type": "code",
   "execution_count": 10,
   "metadata": {},
   "outputs": [
    {
     "name": "stdout",
     "output_type": "stream",
     "text": [
      "------------------------------------------------------------\n",
      "Starting FastGWR with 4 Processors\n",
      "Spatial Kernel: Fixed Gaussian\n",
      "Data Input Path: Zillow-test-dataset/zillow_5k.csv\n",
      "Output Result Path: results_fixed.csv\n",
      "Constant: True\n",
      "Optimal Bandwidth Searching...\n",
      "Range: 0.0 222763.307902534\n",
      "BW, AICc 85088.90071953091 63401.587701945275\n",
      "BW, AICc 137674.4071830031 63412.23473987967\n",
      "BW, AICc 52587.49331169169 63376.049939236196\n",
      "BW, AICc 32501.40740783922 63319.11111531032\n",
      "BW, AICc 20086.844820266873 63189.09679320165\n",
      "BW, AICc 12414.562587572345 62823.090184067856\n",
      "BW, AICc 7672.572115997337 62284.30873222015\n",
      "BW, AICc 4741.990471575008 61925.82638349446\n",
      "BW, AICc 2930.692371147503 61529.608314945304\n",
      "BW, AICc 1811.2981004275057 61093.23641471484\n",
      "BW, AICc 1119.4365650072116 61264.25581814983\n",
      "BW, AICc 2238.846990876096 61276.52126845023\n",
      "BW, AICc 1547.0177653763492 61014.93422823765\n",
      "BW, AICc 1383.7069156917014 61028.14490111669\n",
      "BW, AICc 1647.9710955939706 61035.3151728618\n",
      "BW, AICc 1484.647904488971 61012.03333897104\n",
      "BW, AICc 1446.0867609457464 61014.87098194722\n",
      "BW, AICc 1508.4651496139918 61012.114571544145\n",
      "BW, AICc 1469.9134340653561 61012.668819781014\n",
      "BW, AICc 1493.7395508258794 61011.90638139832\n",
      "BW, AICc 1499.3676764935876 61011.92640560723\n",
      "BW, AICc 1490.2704158015745 61011.93140297951\n",
      "BW, AICc 1495.8927958270594 61011.90523225499\n",
      "BW, AICc 1497.2179013322932 61011.909963639686\n",
      "BW, AICc 1495.0681763688142 61011.904376873215\n",
      "BW, AICc 1494.5620258189801 61011.90464764216\n",
      "BW, AICc 1495.3844816070734 61011.90451517085\n",
      "BW, AICc 1494.8761792563582 61011.90440825117\n",
      "BW, AICc 1495.1903253581706 61011.904402263965\n",
      "BW, AICc 1494.9961736428675 61011.904378426836\n",
      "BW, AICc 1495.1161652274764 61011.90438264309\n",
      "BW, AICc 1495.0420068284404 61011.9043760202\n",
      "Fitting GWR Using Bandwidth: 1495.04\n",
      "Diagnostic Information:\n",
      "AICc: 61011.90437602185\n",
      "ENP: 897.4871734475491\n",
      "R2: 0.8443763943519641\n",
      "Total Time Elapsed: 21.84 seconds\n",
      "------------------------------------------------------------\n"
     ]
    }
   ],
   "source": [
    "#Running FastGWR 4 Processor\n",
    "!fastgwr run -np 4 -data Zillow-test-dataset/zillow_5k.csv -out results_fixed.csv -fixed -constant"
   ]
  },
  {
   "cell_type": "markdown",
   "metadata": {},
   "source": [
    "### Results validation"
   ]
  },
  {
   "cell_type": "code",
   "execution_count": 11,
   "metadata": {},
   "outputs": [
    {
     "name": "stdout",
     "output_type": "stream",
     "text": [
      "Adaptive kernel: pysal AICc -  61867.18296256348\n",
      "Adaptive kernel: pysal R2 -  0.7741417970962875\n",
      "Fixed kernel: pysal AICc -  61011.90437602184\n",
      "Fixed kernel: pysal R2 -  0.8443763943519637\n"
     ]
    }
   ],
   "source": [
    "print(\"Adaptive kernel: pysal AICc - \", pysal_result_adap.aicc)\n",
    "print(\"Adaptive kernel: pysal R2 - \",pysal_result_adap.R2)\n",
    "\n",
    "print(\"Fixed kernel: pysal AICc - \", pysal_result_fixed.aicc)\n",
    "print(\"Fixed kernel: pysal R2 - \",pysal_result_fixed.R2)"
   ]
  },
  {
   "cell_type": "code",
   "execution_count": 12,
   "metadata": {},
   "outputs": [
    {
     "data": {
      "text/html": [
       "<div>\n",
       "<style scoped>\n",
       "    .dataframe tbody tr th:only-of-type {\n",
       "        vertical-align: middle;\n",
       "    }\n",
       "\n",
       "    .dataframe tbody tr th {\n",
       "        vertical-align: top;\n",
       "    }\n",
       "\n",
       "    .dataframe thead th {\n",
       "        text-align: right;\n",
       "    }\n",
       "</style>\n",
       "<table border=\"1\" class=\"dataframe\">\n",
       "  <thead>\n",
       "    <tr style=\"text-align: right;\">\n",
       "      <th></th>\n",
       "      <th>index</th>\n",
       "      <th>residual</th>\n",
       "      <th>influ</th>\n",
       "      <th>b_intercept</th>\n",
       "      <th>b_nbaths</th>\n",
       "      <th>b_nbeds</th>\n",
       "      <th>b_area</th>\n",
       "      <th>b_age</th>\n",
       "      <th>se_intercept</th>\n",
       "      <th>se_nbaths</th>\n",
       "      <th>se_nbeds</th>\n",
       "      <th>se_area</th>\n",
       "      <th>se_age</th>\n",
       "    </tr>\n",
       "  </thead>\n",
       "  <tbody>\n",
       "    <tr>\n",
       "      <th>0</th>\n",
       "      <td>0.0</td>\n",
       "      <td>17.952168</td>\n",
       "      <td>0.044251</td>\n",
       "      <td>-77.847200</td>\n",
       "      <td>-7.207957</td>\n",
       "      <td>11.062545</td>\n",
       "      <td>0.090687</td>\n",
       "      <td>0.157855</td>\n",
       "      <td>111.053450</td>\n",
       "      <td>35.571519</td>\n",
       "      <td>25.893463</td>\n",
       "      <td>0.060610</td>\n",
       "      <td>1.221988</td>\n",
       "    </tr>\n",
       "    <tr>\n",
       "      <th>1</th>\n",
       "      <td>1.0</td>\n",
       "      <td>87.133387</td>\n",
       "      <td>0.067529</td>\n",
       "      <td>91.200690</td>\n",
       "      <td>3.714871</td>\n",
       "      <td>-31.688964</td>\n",
       "      <td>0.153827</td>\n",
       "      <td>-1.974029</td>\n",
       "      <td>100.210214</td>\n",
       "      <td>33.220679</td>\n",
       "      <td>21.463895</td>\n",
       "      <td>0.031428</td>\n",
       "      <td>1.175032</td>\n",
       "    </tr>\n",
       "    <tr>\n",
       "      <th>2</th>\n",
       "      <td>2.0</td>\n",
       "      <td>37.481355</td>\n",
       "      <td>0.069983</td>\n",
       "      <td>65.292923</td>\n",
       "      <td>7.131999</td>\n",
       "      <td>6.721880</td>\n",
       "      <td>0.065560</td>\n",
       "      <td>-1.352434</td>\n",
       "      <td>127.311788</td>\n",
       "      <td>29.505288</td>\n",
       "      <td>22.689325</td>\n",
       "      <td>0.042178</td>\n",
       "      <td>1.544978</td>\n",
       "    </tr>\n",
       "    <tr>\n",
       "      <th>3</th>\n",
       "      <td>3.0</td>\n",
       "      <td>-79.108110</td>\n",
       "      <td>0.051625</td>\n",
       "      <td>89.411082</td>\n",
       "      <td>-8.403962</td>\n",
       "      <td>-57.824964</td>\n",
       "      <td>0.191006</td>\n",
       "      <td>-0.827811</td>\n",
       "      <td>66.517513</td>\n",
       "      <td>27.883677</td>\n",
       "      <td>18.393406</td>\n",
       "      <td>0.035424</td>\n",
       "      <td>0.564270</td>\n",
       "    </tr>\n",
       "    <tr>\n",
       "      <th>4</th>\n",
       "      <td>4.0</td>\n",
       "      <td>-188.088409</td>\n",
       "      <td>0.195136</td>\n",
       "      <td>62.813506</td>\n",
       "      <td>70.535078</td>\n",
       "      <td>-0.582226</td>\n",
       "      <td>0.081513</td>\n",
       "      <td>-3.239616</td>\n",
       "      <td>92.111046</td>\n",
       "      <td>21.715976</td>\n",
       "      <td>18.591600</td>\n",
       "      <td>0.029862</td>\n",
       "      <td>0.996363</td>\n",
       "    </tr>\n",
       "  </tbody>\n",
       "</table>\n",
       "</div>"
      ],
      "text/plain": [
       "   index    residual     influ  b_intercept   b_nbaths    b_nbeds    b_area  \\\n",
       "0    0.0   17.952168  0.044251   -77.847200  -7.207957  11.062545  0.090687   \n",
       "1    1.0   87.133387  0.067529    91.200690   3.714871 -31.688964  0.153827   \n",
       "2    2.0   37.481355  0.069983    65.292923   7.131999   6.721880  0.065560   \n",
       "3    3.0  -79.108110  0.051625    89.411082  -8.403962 -57.824964  0.191006   \n",
       "4    4.0 -188.088409  0.195136    62.813506  70.535078  -0.582226  0.081513   \n",
       "\n",
       "      b_age  se_intercept  se_nbaths   se_nbeds   se_area    se_age  \n",
       "0  0.157855    111.053450  35.571519  25.893463  0.060610  1.221988  \n",
       "1 -1.974029    100.210214  33.220679  21.463895  0.031428  1.175032  \n",
       "2 -1.352434    127.311788  29.505288  22.689325  0.042178  1.544978  \n",
       "3 -0.827811     66.517513  27.883677  18.393406  0.035424  0.564270  \n",
       "4 -3.239616     92.111046  21.715976  18.591600  0.029862  0.996363  "
      ]
     },
     "execution_count": 12,
     "metadata": {},
     "output_type": "execute_result"
    }
   ],
   "source": [
    "fastGWR_result_fixed = pd.read_csv(\"results_fixed.csv\")\n",
    "fastGWR_result_adap = pd.read_csv(\"results_adap.csv\")\n",
    "fastGWR_result_adap.head()"
   ]
  },
  {
   "cell_type": "code",
   "execution_count": 13,
   "metadata": {},
   "outputs": [
    {
     "name": "stdout",
     "output_type": "stream",
     "text": [
      "True\n",
      "True\n"
     ]
    }
   ],
   "source": [
    "#Validate model residual\n",
    "print(np.allclose(fastGWR_result_fixed.residual,pysal_result_fixed.resid_response.reshape(-1)))\n",
    "print(np.allclose(fastGWR_result_adap.residual,pysal_result_adap.resid_response.reshape(-1)))"
   ]
  },
  {
   "cell_type": "code",
   "execution_count": 14,
   "metadata": {},
   "outputs": [
    {
     "name": "stdout",
     "output_type": "stream",
     "text": [
      "True\n",
      "True\n"
     ]
    }
   ],
   "source": [
    "#Validate parameter estimates\n",
    "print(np.allclose(np.array(fastGWR_result_fixed.iloc[:,3:8]),pysal_result_fixed.params))\n",
    "print(np.allclose(np.array(fastGWR_result_adap.iloc[:,3:8]),pysal_result_adap.params))"
   ]
  },
  {
   "cell_type": "code",
   "execution_count": 15,
   "metadata": {},
   "outputs": [
    {
     "name": "stdout",
     "output_type": "stream",
     "text": [
      "True\n",
      "True\n"
     ]
    }
   ],
   "source": [
    "#Validate parameter estimates standard errors\n",
    "print(np.allclose(np.array(fastGWR_result_adap.iloc[:,8:13]),pysal_result_adap.bse))\n",
    "print(np.allclose(np.array(fastGWR_result_fixed.iloc[:,8:13]),pysal_result_fixed.bse))"
   ]
  },
  {
   "cell_type": "code",
   "execution_count": null,
   "metadata": {},
   "outputs": [],
   "source": []
  },
  {
   "cell_type": "code",
   "execution_count": null,
   "metadata": {},
   "outputs": [],
   "source": []
  }
 ],
 "metadata": {
  "kernelspec": {
   "display_name": "Python 3",
   "language": "python",
   "name": "python3"
  },
  "language_info": {
   "codemirror_mode": {
    "name": "ipython",
    "version": 3
   },
   "file_extension": ".py",
   "mimetype": "text/x-python",
   "name": "python",
   "nbconvert_exporter": "python",
   "pygments_lexer": "ipython3",
   "version": "3.7.6"
  }
 },
 "nbformat": 4,
 "nbformat_minor": 2
}
